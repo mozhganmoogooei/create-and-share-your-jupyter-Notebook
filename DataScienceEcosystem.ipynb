{
 "cells": [
  {
   "cell_type": "markdown",
   "id": "f6b45454",
   "metadata": {
    "scrolled": true
   },
   "source": [
    "# Data Science Tools and Ecosystem"
   ]
  },
  {
   "cell_type": "markdown",
   "id": "6323de1c",
   "metadata": {},
   "source": [
    "In this notebook, Data Science Tools and Ecosystem are summarized."
   ]
  },
  {
   "cell_type": "markdown",
   "id": "4abec4a9",
   "metadata": {},
   "source": [
    "Some of the popular languages that Data Scientists use are:\n",
    "    \n",
    "    1.Python\n",
    "    2.SQL \n",
    "    3.R\n",
    "    4.Julia \n",
    "    5.JavaScript \n",
    "    6.Scala\n",
    "    7.Java\n",
    "    8.Go\n"
   ]
  },
  {
   "cell_type": "markdown",
   "id": "a63fdb82",
   "metadata": {},
   "source": [
    "  Some of the commonly used libraries used by Data Scientists include:\n",
    "        \n",
    "   1. NumPy\n",
    "   2. Keras\n",
    "   3. Pandas\n",
    "   4. PyTorch\n",
    "   5. SciPy\n",
    "   6. Scikit-Learn\n",
    "   7. TensorFlow\n",
    "   8. Matplotlip"
   ]
  },
  {
   "cell_type": "markdown",
   "id": "e6772343",
   "metadata": {},
   "source": [
    "|Data Science Tools|\n",
    "|---|\n",
    "|SAS|\n",
    "|Apache Hadoop|\n",
    "|Tnsorflow|"
   ]
  },
  {
   "cell_type": "markdown",
   "id": "abc72696",
   "metadata": {},
   "source": [
    "### Below are a few examples of evaluating arithmetic expressions in Python."
   ]
  },
  {
   "cell_type": "code",
   "execution_count": 8,
   "id": "f9a1a83e",
   "metadata": {},
   "outputs": [
    {
     "data": {
      "text/plain": [
       "17"
      ]
     },
     "execution_count": 8,
     "metadata": {},
     "output_type": "execute_result"
    }
   ],
   "source": [
    "# This is common  arithmetic example to multiply then add integers\n",
    "(3*4)+5"
   ]
  },
  {
   "cell_type": "code",
   "execution_count": 7,
   "id": "247962d1",
   "metadata": {},
   "outputs": [
    {
     "data": {
      "text/plain": [
       "2.0"
      ]
     },
     "execution_count": 7,
     "metadata": {},
     "output_type": "execute_result"
    }
   ],
   "source": [
    "# vnvert minute to houres\n",
    "120/60"
   ]
  },
  {
   "cell_type": "markdown",
   "id": "a209f192",
   "metadata": {},
   "source": [
    "__objectives__\n",
    "\n",
    "* list popular languages for data science\n",
    "* list popular libraries fir data science\n",
    "* list of wellkown data science tools\n",
    "* how o provid ethe comments in the cell"
   ]
  },
  {
   "cell_type": "markdown",
   "id": "7780787c",
   "metadata": {},
   "source": [
    "## Aouther\n",
    "Mojgan Mougouee"
   ]
  },
  {
   "cell_type": "code",
   "execution_count": null,
   "id": "4fa70fcd",
   "metadata": {},
   "outputs": [],
   "source": []
  }
 ],
 "metadata": {
  "kernelspec": {
   "display_name": "Python 3 (ipykernel)",
   "language": "python",
   "name": "python3"
  },
  "language_info": {
   "codemirror_mode": {
    "name": "ipython",
    "version": 3
   },
   "file_extension": ".py",
   "mimetype": "text/x-python",
   "name": "python",
   "nbconvert_exporter": "python",
   "pygments_lexer": "ipython3",
   "version": "3.10.12"
  }
 },
 "nbformat": 4,
 "nbformat_minor": 5
}
